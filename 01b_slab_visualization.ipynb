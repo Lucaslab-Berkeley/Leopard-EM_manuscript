{
 "cells": [
  {
   "cell_type": "markdown",
   "id": "d78125f6",
   "metadata": {},
   "source": [
    "# Making 3D slab projections for 2DTM results\n",
    "\n",
    "This notebook holds the necessary code for making slab volumes with template structures placed at their identified orientations & locations.\n",
    "These can be extended to much larger image regions (such plots are included as later figures), but this case focuses on the detections in Figure 1 subregions"
   ]
  },
  {
   "cell_type": "code",
   "execution_count": 1,
   "id": "55ba6b54",
   "metadata": {},
   "outputs": [],
   "source": [
    "import numpy as np\n",
    "import pandas as pd\n",
    "import mrcfile\n",
    "import torch\n",
    "import matplotlib.pyplot as plt\n",
    "from scipy.ndimage import rotate\n",
    "from scipy.spatial.transform import Rotation\n",
    "\n",
    "# import napari\n",
    "import torch_fourier_rescale"
   ]
  },
  {
   "cell_type": "markdown",
   "id": "91d71743",
   "metadata": {},
   "source": [
    "## Downloading, importing, and loading data"
   ]
  },
  {
   "cell_type": "markdown",
   "id": "b258aecd",
   "metadata": {},
   "source": [
    "### Load in the simulated templates\n",
    "\n",
    "Each of these volumes have been simulated and used to search a micrograph using 2DTM.\n",
    "We load the MRC files into numpy arrays and additionally find their simulated pixel sizes.\n",
    "These data will be used to downsample the volumes before placing them in the slab volumes."
   ]
  },
  {
   "cell_type": "code",
   "execution_count": 2,
   "id": "56773d4e",
   "metadata": {},
   "outputs": [],
   "source": [
    "template_60S_path = \"/data/papers/Leopard-EM_paper_data/maps/60S_map_px0.936_bscale0.5.mrc\"\n",
    "template_40S_path = \"/data/papers/Leopard-EM_paper_data/maps/SSU-body_map_px0.936_bscale0.5.mrc\"\n",
    "template_20S_path = \"/shared/1ryp_2dtm/1ryp_sim.mrc\""
   ]
  },
  {
   "cell_type": "code",
   "execution_count": 3,
   "id": "7e40f574",
   "metadata": {},
   "outputs": [
    {
     "name": "stdout",
     "output_type": "stream",
     "text": [
      "60S template shape: (512, 512, 512)\n",
      "60S template voxel shape: 0.936\n",
      "\n",
      "40S template shape: (512, 512, 512)\n",
      "40S template voxel shape: 0.936\n",
      "\n",
      "20S template shape: (384, 384, 384)\n",
      "20S template voxel shape: 1.060\n"
     ]
    }
   ],
   "source": [
    "# Load template files and print their shapes\n",
    "with mrcfile.open(template_60S_path, mode=\"r\") as f:\n",
    "    template_60S = f.data.copy()\n",
    "    px_60S = f.voxel_size.x.item()\n",
    "    print(f\"60S template shape: {template_60S.shape}\")\n",
    "    print(f\"60S template voxel shape: {px_60S:.3f}\")\n",
    "    print()\n",
    "\n",
    "with mrcfile.open(template_40S_path, mode=\"r\") as f:\n",
    "    template_40S = f.data.copy()\n",
    "    px_40S = f.voxel_size.x.item()\n",
    "    print(f\"40S template shape: {template_40S.shape}\")\n",
    "    print(f\"40S template voxel shape: {px_40S:.3f}\")\n",
    "    print()\n",
    "\n",
    "with mrcfile.open(template_20S_path, mode=\"r\") as f:\n",
    "    template_20S = f.data.copy()\n",
    "    px_20S = f.voxel_size.x.item()\n",
    "    print(f\"20S template shape: {template_20S.shape}\")\n",
    "    print(f\"20S template voxel shape: {px_20S:.3f}\")"
   ]
  },
  {
   "cell_type": "markdown",
   "id": "ea451520",
   "metadata": {},
   "source": [
    "### Load in the full micrographs\n",
    "\n",
    "The 40S and 60S ribosome micrographs are the same while the 20S is a different image.\n",
    "Again, these are MRC file which get loaded into numpy arrays."
   ]
  },
  {
   "cell_type": "code",
   "execution_count": 4,
   "id": "5da67aa2",
   "metadata": {},
   "outputs": [],
   "source": [
    "img_60S_path = \"/data/papers/Leopard-EM_paper_data/xe30kv/all_mgraphs/xenon_252_000_0.0_DWS.mrc\"\n",
    "img_40S_path = \"/data/papers/Leopard-EM_paper_data/xe30kv/all_mgraphs/xenon_252_000_0.0_DWS.mrc\"\n",
    "img_proteasome_path = \"150_Mar12_12.28.45_165_0.mrc\""
   ]
  },
  {
   "cell_type": "code",
   "execution_count": 5,
   "id": "f30558b9",
   "metadata": {},
   "outputs": [
    {
     "name": "stdout",
     "output_type": "stream",
     "text": [
      "60S micrograph shape: (4096, 4096)\n",
      "\n",
      "40S micrograph shape: (4096, 4096)\n",
      "\n",
      "Proteasome micrograph shape: (4092, 5760)\n"
     ]
    }
   ],
   "source": [
    "# Load micrograph files and print their shapes\n",
    "with mrcfile.open(img_60S_path, mode=\"r\") as f:\n",
    "    img_60S = f.data.copy()\n",
    "    print(f\"60S micrograph shape: {img_60S.shape}\")\n",
    "    print()\n",
    "\n",
    "with mrcfile.open(img_40S_path, mode=\"r\") as f:\n",
    "    img_40S = f.data.copy()\n",
    "    print(f\"40S micrograph shape: {img_40S.shape}\")\n",
    "    print()\n",
    "\n",
    "with mrcfile.open(img_proteasome_path, mode=\"r\") as f:\n",
    "    img_proteasome = f.data.copy()\n",
    "    img_proteasome = img_proteasome[0]\n",
    "    print(f\"Proteasome micrograph shape: {img_proteasome.shape}\")"
   ]
  },
  {
   "cell_type": "markdown",
   "id": "79fbb5c2",
   "metadata": {},
   "source": [
    "### Match template results files for each run\n",
    "\n",
    "These are csv files parsed into a DataFrame.\n",
    "We will use these later to get the orientations and depth (defocus) of each particle to plot the results of.\n",
    "\n",
    "Also, we will filter results that are close to each other (within 10 pixels) to avoid selecting the same particle multiple times."
   ]
  },
  {
   "cell_type": "code",
   "execution_count": 6,
   "id": "14554bff",
   "metadata": {},
   "outputs": [],
   "source": [
    "# # Match template results\n",
    "# results_60S_df_path = \"/data/papers/Leopard-EM_paper_data/xe30kv/results_match_tm_60S/xenon_252_000_0.0_DWS_results.csv\"\n",
    "# results_40S_df_path = \"/data/papers/Leopard-EM_paper_data/xe30kv/results_match_tm_40S-body/xenon_252_000_0.0_DWS_results.csv\"\n",
    "# results_20S_df_path = \"/shared/1ryp_2dtm/results_def/150_def_match_template_results.csv\"\n",
    "\n",
    "# Refine template results\n",
    "results_60S_df_path = \"/data/papers/Leopard-EM_paper_data/xe30kv/results_refine_tm_60S_2/xenon_252_000_0.0_DWS_refined_results.csv\"\n",
    "results_40S_df_path = \"/home/mgiammar/git_repositories/tt2DTM/scratch_files/results_refine_tm_40S-body/xenon_252_000_0.0_DWS_refine_results.csv\"\n",
    "results_20S_df_path = \"/shared/1ryp_2dtm/results_def/150_def_match_template_results.csv\""
   ]
  },
  {
   "cell_type": "code",
   "execution_count": 7,
   "id": "985713ce",
   "metadata": {},
   "outputs": [],
   "source": [
    "results_60S_df = pd.read_csv(results_60S_df_path)\n",
    "results_40S_df = pd.read_csv(results_40S_df_path)\n",
    "results_20S_df = pd.read_csv(results_20S_df_path)"
   ]
  },
  {
   "cell_type": "code",
   "execution_count": 8,
   "id": "3f28bcb3",
   "metadata": {},
   "outputs": [],
   "source": [
    "def filter_close_results(df: pd.DataFrame, threshold: float = 10.0) -> pd.DataFrame:\n",
    "    \"\"\"Filters rows in a DataFrame based on proximity of 'pos_x' and 'pos_y' values.\n",
    "\n",
    "    NOTE: This function give preference to rows with a higher 'scaled_mip' value\n",
    "    when filtering out close results.\n",
    "\n",
    "    Parameters:\n",
    "    -----------\n",
    "    df : pd.DataFrame\n",
    "        DataFrame containing 'pos_x' and 'pos_y' columns.\n",
    "    threshold : float\n",
    "        Distance threshold for filtering. Rows with 'pos_x' and 'pos_y' values\n",
    "        within this distance of each other will be filtered out.\n",
    "\n",
    "    Returns:\n",
    "    --------\n",
    "    pd.DataFrame\n",
    "        Filtered DataFrame containing only rows that are not close to each other\n",
    "        based on the specified threshold.\n",
    "    \"\"\"\n",
    "    filtered_df = df.copy()\n",
    "    filtered_df = filtered_df.sort_values(by=\"scaled_mip\", ascending=False)\n",
    "    filtered_df = filtered_df.reset_index(drop=True)\n",
    "\n",
    "    # List to store indices of rows to keep\n",
    "    indices_to_keep = []\n",
    "\n",
    "    for i, row in filtered_df.iterrows():\n",
    "        # Check if this row is close to any already kept row\n",
    "        is_close = False\n",
    "        for kept_idx in indices_to_keep:\n",
    "            kept_row = filtered_df.loc[kept_idx]\n",
    "            if (\n",
    "                abs(row[\"pos_x\"] - kept_row[\"pos_x\"]) < threshold\n",
    "                and abs(row[\"pos_y\"] - kept_row[\"pos_y\"]) < threshold\n",
    "            ):\n",
    "                is_close = True\n",
    "                break\n",
    "\n",
    "        # If not close to any kept row, keep this one\n",
    "        if not is_close:\n",
    "            indices_to_keep.append(i)\n",
    "\n",
    "    # Return filtered dataframe with only the kept indices\n",
    "    return filtered_df.loc[indices_to_keep].sort_index()\n",
    "\n",
    "\n",
    "results_60S_df = filter_close_results(results_60S_df, threshold=10)\n",
    "results_40S_df = filter_close_results(results_40S_df, threshold=10)\n",
    "results_20S_df = filter_close_results(results_20S_df, threshold=10)"
   ]
  },
  {
   "cell_type": "markdown",
   "id": "b119b4e9",
   "metadata": {},
   "source": [
    "## Helper functions for slab creation and visualization"
   ]
  },
  {
   "cell_type": "markdown",
   "id": "3eaaa9f4",
   "metadata": {},
   "source": [
    "### Creating slab with translations and rotations\n",
    "\n",
    "Here, the slab is created to be the same size as the original micrograph if it were down-sampled.\n",
    "This means the slab can be directly overlaid on the micrograph to visualize structure position"
   ]
  },
  {
   "cell_type": "code",
   "execution_count": 9,
   "id": "68d86ef5",
   "metadata": {},
   "outputs": [],
   "source": [
    "def create_empty_slab(\n",
    "    image_shape: tuple[int, int],\n",
    "    image_pixel_size: float,  # Angstroms\n",
    "    slab_pixel_size: float,  # Angstroms\n",
    "    slab_thickness: float,  # Angstroms\n",
    ") -> np.ndarray:\n",
    "    \"\"\"Create an empty slab with the specified pixel size and thickness.\n",
    "\n",
    "    Parameters\n",
    "    ----------\n",
    "    image_shape : tuple[int, int]\n",
    "        Shape of the image (height, width).\n",
    "    image_pixel_size : float\n",
    "        Pixel size of the image, in Angstroms.\n",
    "    slab_pixel_size : float\n",
    "        Desired voxel size of the slab, in Angstroms (isotropic).\n",
    "    slab_thickness : float\n",
    "        Thickness of the slab, in Angstroms.\n",
    "    \"\"\"\n",
    "    # Slab spans the same physical area as the image, but will have a different\n",
    "    # voxel pitch.\n",
    "    height = image_shape[0] * image_pixel_size\n",
    "    width = image_shape[1] * image_pixel_size\n",
    "\n",
    "    slab_height = int(height / slab_pixel_size)\n",
    "    slab_width = int(width / slab_pixel_size)\n",
    "    slab_depth = int(slab_thickness / slab_pixel_size)\n",
    "\n",
    "    slab = np.zeros((slab_height, slab_width, slab_depth), dtype=np.float32)\n",
    "\n",
    "    return slab"
   ]
  },
  {
   "cell_type": "markdown",
   "id": "f80bb2ee",
   "metadata": {},
   "source": [
    "### Helper function to place a smaller volume into a larger volume\n",
    "\n",
    "Note that this operates on integer coordinates (no sub-voxel accuracy), nor does this handle complex bounds checking.\n",
    "It will just raise an error if the slab bounds are exceeded.\n",
    "\n",
    "Also note that the rotation format is 'xyz' rather than the typical 'ZYZ' Euler angle format used by Leopard-EM"
   ]
  },
  {
   "cell_type": "code",
   "execution_count": 10,
   "id": "7ece9d1c",
   "metadata": {},
   "outputs": [],
   "source": [
    "def place_into_larger_volume(\n",
    "    small_volume: np.ndarray,\n",
    "    large_volume: np.ndarray,\n",
    "    position: tuple[int, int, int],\n",
    "    orientation: tuple[float, float, float]\n",
    ") -> np.ndarray:\n",
    "    \"\"\"Transform a small volume and place it into a larger volume.\n",
    "\n",
    "    NOTE: The orientations are in ZYZ format, volumes are in ZYX format\n",
    "\n",
    "    Parameters\n",
    "    ----------\n",
    "    small_volume : np.ndarray\n",
    "        The small volume to be placed, shape (depth, height, width) in ZYX format.\n",
    "    large_volume : np.ndarray\n",
    "        The larger volume into which the small volume will be placed, shape\n",
    "        (depth, height, width) in ZYX format.\n",
    "    position : tuple[int, int, int]\n",
    "        The (z, y, x) position in the larger volume where the small volume will be placed.\n",
    "    orientation : tuple[float, float, float]\n",
    "        The rotation angles (in degrees) for ZYZ Euler angles.\n",
    "    \n",
    "    Returns\n",
    "    -------\n",
    "    np.ndarray\n",
    "        The larger volume with the small volume placed and rotated inside it.\n",
    "    \"\"\"\n",
    "    # Calculate the position in the larger volume (only integer coordinates)\n",
    "    z, y, x = position\n",
    "    z_end = z + small_volume.shape[0]\n",
    "    y_end = y + small_volume.shape[1]\n",
    "    x_end = x + small_volume.shape[2]\n",
    "\n",
    "    # Check if the small volume fits into the larger volume\n",
    "    if (\n",
    "        z < 0\n",
    "        or y < 0\n",
    "        or x < 0\n",
    "        or z_end > large_volume.shape[0]\n",
    "        or y_end > large_volume.shape[1]\n",
    "        or x_end > large_volume.shape[2]\n",
    "    ):\n",
    "        print(f\"Position: {position}\")\n",
    "        print(f\"Small volume shape: {small_volume.shape}\")\n",
    "        print(f\"Larger volume shape: {large_volume.shape}\")\n",
    "        raise ValueError(\"Volume is out of bounds!\")\n",
    "\n",
    "    # Sequentially rotate the small volume (ZYZ Euler angles)\n",
    "    # For ZYX format: axes (0,1,2) correspond to (Z,Y,X)\n",
    "    phi, theta, psi = orientation\n",
    "    volume_rotated = rotate(small_volume, -phi, axes=(1, 2), reshape=False, order=2)  # Rotation around Z\n",
    "    volume_rotated = rotate(volume_rotated, theta, axes=(0, 2), reshape=False, order=2)  # Rotation around Y\n",
    "    volume_rotated = rotate(volume_rotated, -psi, axes=(0, 1), reshape=False, order=2)  # Rotation around Z\n",
    "\n",
    "    # Place the rotated small volume into the larger volume\n",
    "    large_volume[z:z_end, y:y_end, x:x_end] += volume_rotated\n",
    "\n",
    "    return large_volume"
   ]
  },
  {
   "cell_type": "markdown",
   "id": "784f50b2",
   "metadata": {},
   "source": [
    "### Helper function to render volume from results DataFrame"
   ]
  },
  {
   "cell_type": "code",
   "execution_count": 11,
   "id": "a59aa99b",
   "metadata": {},
   "outputs": [],
   "source": [
    "def construct_slab_from_results_df(\n",
    "    template_volume: np.ndarray,\n",
    "    results_df: pd.DataFrame,\n",
    "    image_shape: tuple[int, int],\n",
    "    image_pixel_size: float,\n",
    "    slab_pixel_size: float,\n",
    "    slab_thickness: float = None,  # Default None means thickness is inferred\n",
    "    use_refined_columns: bool = True,\n",
    ") -> np.ndarray:\n",
    "    \"\"\"Takes in a results_df DataFrame and constructs a slab for the volume.\n",
    "\n",
    "    Parameters\n",
    "    ----------\n",
    "    template_volume : np.ndarray\n",
    "        The template volume to be placed into the slab, shape (depth, height, width).\n",
    "    results_df : pd.DataFrame\n",
    "        DataFrame containing the results with columns 'pos_x', 'pos_y', 'relative_defocus',\n",
    "        'phi', 'theta', and 'psi'.\n",
    "    image_shape : tuple[int, int]\n",
    "        Shape of the image (height, width) that the slab will cover.\n",
    "    image_pixel_size : float\n",
    "        Pixel size of the image, in Angstroms.\n",
    "    slab_pixel_size : float\n",
    "        Desired voxel size of the slab, in Angstroms (isotropic).\n",
    "    slab_thickness : float, optional\n",
    "        Thickness of the slab, in Angstroms. If None, it will be inferred from the\n",
    "        defocus values in the results_df.\n",
    "    use_refined_columns : bool, optional\n",
    "        If True, then preference is given to refined columns in the results_df.\n",
    "        If False, the original columns are used. Falls back to original columns\n",
    "        if the refined columns are not present.\n",
    "\n",
    "    Returns\n",
    "    -------\n",
    "    np.ndarray\n",
    "        The constructed slab containing the placed template volumes, shape\n",
    "        (slab_height, slab_width, slab_depth).\n",
    "    \"\"\"\n",
    "    pos_x_col = \"pos_x\"\n",
    "    pos_y_col = \"pos_y\"\n",
    "    phi_col = \"phi\"\n",
    "    theta_col = \"theta\"\n",
    "    psi_col = \"psi\"\n",
    "    relative_defocus_col = \"relative_defocus\"\n",
    "    if use_refined_columns:\n",
    "        if (\n",
    "            \"refined_pos_x\" in results_df.columns\n",
    "            and \"refined_pos_y\" in results_df.columns\n",
    "            and \"refined_phi\" in results_df.columns\n",
    "            and \"refined_theta\" in results_df.columns\n",
    "            and \"refined_psi\" in results_df.columns\n",
    "            and \"refined_relative_defocus\" in results_df.columns\n",
    "        ):\n",
    "            pos_x_col = \"refined_pos_x\"\n",
    "            pos_y_col = \"refined_pos_y\"\n",
    "            phi_col = \"refined_phi\"\n",
    "            theta_col = \"refined_theta\"\n",
    "            psi_col = \"refined_psi\"\n",
    "            relative_defocus_col = \"refined_relative_defocus\"\n",
    "        else:\n",
    "            print(\"Refined columns not found, using original columns.\")\n",
    "\n",
    "    # Find minimum/maximum defocus values to set zero position\n",
    "    min_defocus = results_df[relative_defocus_col].min()\n",
    "    max_defocus = results_df[relative_defocus_col].max()\n",
    "\n",
    "    # Use defocus range as slab thickness if not provided\n",
    "    if slab_thickness is None:\n",
    "        slab_thickness = max_defocus - min_defocus\n",
    "        slab_thickness += (template_volume.shape[0] + 1) * slab_pixel_size\n",
    "\n",
    "    slab = create_empty_slab(\n",
    "        image_shape=image_shape,\n",
    "        image_pixel_size=image_pixel_size,\n",
    "        slab_pixel_size=slab_pixel_size,\n",
    "        slab_thickness=slab_thickness,\n",
    "    )\n",
    "\n",
    "    for i, row in results_df.iterrows():\n",
    "        print(f\"Placing volume {i + 1} of {len(results_df)}\")\n",
    "        # Get full image position and convert to slab coordinates\n",
    "        position = [\n",
    "            row[pos_x_col] * image_pixel_size,\n",
    "            row[pos_y_col] * image_pixel_size,\n",
    "            float(row[relative_defocus_col]) - min_defocus,\n",
    "        ]\n",
    "        position = np.array(position)\n",
    "        position = np.round(position / slab_pixel_size).astype(int)\n",
    "        position = tuple(position.tolist())\n",
    "\n",
    "        orientation = [row[phi_col], row[theta_col], row[psi_col]]\n",
    "\n",
    "        slab = place_into_larger_volume(\n",
    "            small_volume=template_volume,\n",
    "            large_volume=slab,\n",
    "            position=position,\n",
    "            orientation=orientation,\n",
    "        )\n",
    "\n",
    "    # # Slab is in XYZ format, but MRC are generally defined in ZYX format.\n",
    "    # slab = np.transpose(slab, (2, 0, 1))  # Change to ZYX format\n",
    "\n",
    "    return slab"
   ]
  },
  {
   "cell_type": "markdown",
   "id": "d7d862fe",
   "metadata": {},
   "source": [
    "## Filtering results based on regions of interest\n",
    "\n",
    "These regions are defined in the previous notebook for plotting the 2D images: [01_plot_2dtm_results.ipynb](01_plot_2dtm_results.ipynb)."
   ]
  },
  {
   "cell_type": "code",
   "execution_count": 12,
   "id": "98c888d0",
   "metadata": {},
   "outputs": [],
   "source": [
    "# These are the regions in the results file for the 60S and 40S results\n",
    "# NOTE: This definition is backwards based on the results file...\n",
    "\n",
    "x1_region = (100, 780)\n",
    "y1_region = (600, 1280)"
   ]
  },
  {
   "cell_type": "code",
   "execution_count": 13,
   "id": "c05ad141",
   "metadata": {},
   "outputs": [],
   "source": [
    "# Filter pos_x and pos_y to be within the specified regions\n",
    "results_60S_df_filtered = results_60S_df[\n",
    "    (results_60S_df[\"pos_x\"].between(*x1_region)) &\n",
    "    (results_60S_df[\"pos_y\"].between(*y1_region))\n",
    "].copy()\n",
    "results_40S_df_filtered = results_40S_df[\n",
    "    (results_40S_df[\"pos_x\"].between(*x1_region)) &\n",
    "    (results_40S_df[\"pos_y\"].between(*y1_region))\n",
    "].copy()\n",
    "\n",
    "# Translate the x and y positions to the new region\n",
    "results_60S_df_filtered[\"pos_x\"] -= x1_region[0]\n",
    "results_60S_df_filtered[\"pos_y\"] -= y1_region[0]\n",
    "if \"refined_pos_x\" in results_60S_df_filtered.columns:\n",
    "    results_60S_df_filtered[\"refined_pos_x\"] -= x1_region[0]\n",
    "    results_60S_df_filtered[\"refined_pos_y\"] -= y1_region[0]\n",
    "\n",
    "results_40S_df_filtered[\"pos_x\"] -= x1_region[0]\n",
    "results_40S_df_filtered[\"pos_y\"] -= y1_region[0]\n",
    "if \"refined_pos_x\" in results_40S_df_filtered.columns:\n",
    "    results_40S_df_filtered[\"refined_pos_x\"] -= x1_region[0]\n",
    "    results_40S_df_filtered[\"refined_pos_y\"] -= y1_region[0]"
   ]
  },
  {
   "cell_type": "code",
   "execution_count": 14,
   "id": "8188ca1b",
   "metadata": {},
   "outputs": [],
   "source": [
    "# This is the region (in the other micrograph) for the 20S results\n",
    "x3_region = (3370, 3970)\n",
    "y3_region = (1815, 2415)"
   ]
  },
  {
   "cell_type": "code",
   "execution_count": 15,
   "id": "b55e5581",
   "metadata": {},
   "outputs": [],
   "source": [
    "# Translate the x and y positions to the new region\n",
    "results_20S_df_filtered = results_20S_df.copy()\n",
    "results_20S_df_filtered[\"pos_x\"] -= x3_region[0]\n",
    "results_20S_df_filtered[\"pos_y\"] -= y3_region[0]\n",
    "if \"refined_pos_x\" in results_20S_df_filtered.columns:\n",
    "    results_20S_df_filtered[\"refined_pos_x\"] -= x3_region[0]\n",
    "    results_20S_df_filtered[\"refined_pos_y\"] -= y3_region[0]"
   ]
  },
  {
   "cell_type": "markdown",
   "id": "8cd31099",
   "metadata": {},
   "source": [
    "## Generating slab for 60S ribosome results\n",
    "\n",
    "The results DataFrame is filtered to only include particles within a specified region of interest which corresponds to to the other notebook used to generate figure 1."
   ]
  },
  {
   "cell_type": "code",
   "execution_count": 16,
   "id": "76ef3d3b",
   "metadata": {},
   "outputs": [
    {
     "name": "stdout",
     "output_type": "stream",
     "text": [
      "Rescaled 60S template voxel shape: 4.992 Angstroms\n"
     ]
    }
   ],
   "source": [
    "template_60S_rescaled, px_60S_rescaled = torch_fourier_rescale.fourier_rescale_3d(\n",
    "    image=torch.from_numpy(template_60S),\n",
    "    source_spacing=px_60S,\n",
    "    target_spacing=5.0,\n",
    ")\n",
    "px_60S_rescaled = px_60S_rescaled[0].item()\n",
    "\n",
    "print(f\"Rescaled 60S template voxel shape: {px_60S_rescaled:.3f} Angstroms\")"
   ]
  },
  {
   "cell_type": "code",
   "execution_count": 17,
   "id": "c879f3e0",
   "metadata": {},
   "outputs": [
    {
     "name": "stdout",
     "output_type": "stream",
     "text": [
      "Placing volume 14 of 7\n",
      "Placing volume 33 of 7\n",
      "Placing volume 41 of 7\n",
      "Placing volume 62 of 7\n",
      "Placing volume 85 of 7\n",
      "Placing volume 91 of 7\n",
      "Placing volume 97 of 7\n"
     ]
    },
    {
     "data": {
      "text/plain": [
       "(223, 223, 240)"
      ]
     },
     "execution_count": 17,
     "metadata": {},
     "output_type": "execute_result"
    }
   ],
   "source": [
    "slab_60S = construct_slab_from_results_df(\n",
    "    template_volume=template_60S_rescaled,\n",
    "    results_df=results_60S_df_filtered,\n",
    "    image_shape=(\n",
    "        x1_region[1] - x1_region[0] + template_60S.shape[0],\n",
    "        y1_region[1] - y1_region[0] + template_60S.shape[1],\n",
    "    ),\n",
    "    image_pixel_size=px_60S,\n",
    "    slab_pixel_size=px_60S_rescaled,\n",
    "    slab_thickness=1200.0,  # Angstroms\n",
    ")\n",
    "slab_60S.shape"
   ]
  },
  {
   "cell_type": "code",
   "execution_count": 18,
   "id": "604d1b09",
   "metadata": {},
   "outputs": [
    {
     "name": "stdout",
     "output_type": "stream",
     "text": [
      "Slab saved to slab_60S_refined.mrc\n"
     ]
    }
   ],
   "source": [
    "# Save the slab to a MRC file\n",
    "slab_60S_mrc_path = \"slab_60S_refined.mrc\"\n",
    "with mrcfile.new(slab_60S_mrc_path, overwrite=True) as mrc:\n",
    "    mrc.set_data(slab_60S.astype(np.float32))\n",
    "    mrc.voxel_size = (px_60S_rescaled, px_60S_rescaled, px_60S_rescaled)\n",
    "    mrc.update_header_from_data()\n",
    "    print(f\"Slab saved to {slab_60S_mrc_path}\")"
   ]
  },
  {
   "cell_type": "markdown",
   "id": "f3e7a65d",
   "metadata": {},
   "source": [
    "## Generating slab volume for 40S"
   ]
  },
  {
   "cell_type": "code",
   "execution_count": 19,
   "id": "5ea6acb0",
   "metadata": {},
   "outputs": [
    {
     "name": "stdout",
     "output_type": "stream",
     "text": [
      "Rescaled 40S template voxel shape: 4.992 Angstroms\n"
     ]
    }
   ],
   "source": [
    "template_40S_rescaled, px_40S_rescaled = torch_fourier_rescale.fourier_rescale_3d(\n",
    "    image=torch.from_numpy(template_40S),\n",
    "    source_spacing=px_40S,\n",
    "    target_spacing=5.0,\n",
    ")\n",
    "px_40S_rescaled = px_40S_rescaled[0].item()\n",
    "\n",
    "print(f\"Rescaled 40S template voxel shape: {px_40S_rescaled:.3f} Angstroms\")"
   ]
  },
  {
   "cell_type": "code",
   "execution_count": 20,
   "id": "5975d155",
   "metadata": {},
   "outputs": [
    {
     "name": "stdout",
     "output_type": "stream",
     "text": [
      "Placing volume 4 of 4\n",
      "Placing volume 10 of 4\n",
      "Placing volume 12 of 4\n",
      "Placing volume 21 of 4\n"
     ]
    },
    {
     "data": {
      "text/plain": [
       "(223, 223, 240)"
      ]
     },
     "execution_count": 20,
     "metadata": {},
     "output_type": "execute_result"
    }
   ],
   "source": [
    "slab_40S = construct_slab_from_results_df(\n",
    "    template_volume=template_40S_rescaled,\n",
    "    results_df=results_40S_df_filtered,\n",
    "    image_shape=(\n",
    "        x1_region[1] - x1_region[0] + template_40S.shape[0],\n",
    "        y1_region[1] - y1_region[0] + template_40S.shape[1],\n",
    "    ),\n",
    "    image_pixel_size=px_40S,\n",
    "    slab_pixel_size=px_40S_rescaled,\n",
    "    slab_thickness=1200.0,  # Angstroms\n",
    ")\n",
    "slab_40S.shape"
   ]
  },
  {
   "cell_type": "code",
   "execution_count": 21,
   "id": "97439f1b",
   "metadata": {},
   "outputs": [
    {
     "name": "stdout",
     "output_type": "stream",
     "text": [
      "Slab saved to slab_40S_refined.mrc\n"
     ]
    }
   ],
   "source": [
    "# Save the slab to a MRC file\n",
    "slab_40S_mrc_path = \"slab_40S_refined.mrc\"\n",
    "with mrcfile.new(slab_40S_mrc_path, overwrite=True) as mrc:\n",
    "    mrc.set_data(slab_40S.astype(np.float32))\n",
    "    mrc.voxel_size = (px_40S_rescaled, px_40S_rescaled, px_40S_rescaled)\n",
    "    mrc.update_header_from_data()\n",
    "    print(f\"Slab saved to {slab_40S_mrc_path}\")"
   ]
  },
  {
   "cell_type": "markdown",
   "id": "6ed77b61",
   "metadata": {},
   "source": [
    "## Generating Slab for 20S Proteasome"
   ]
  },
  {
   "cell_type": "code",
   "execution_count": 22,
   "id": "f5531d07",
   "metadata": {},
   "outputs": [
    {
     "name": "stdout",
     "output_type": "stream",
     "text": [
      "Rescaled 20S template voxel shape: 4.964 Angstroms\n"
     ]
    }
   ],
   "source": [
    "template_20S_rescaled, px_20S_rescaled = torch_fourier_rescale.fourier_rescale_3d(\n",
    "    image=torch.from_numpy(template_20S),\n",
    "    source_spacing=px_20S,\n",
    "    target_spacing=5.0,\n",
    ")\n",
    "px_20S_rescaled = px_20S_rescaled[0].item()\n",
    "\n",
    "print(f\"Rescaled 20S template voxel shape: {px_20S_rescaled:.3f} Angstroms\")"
   ]
  },
  {
   "cell_type": "code",
   "execution_count": 23,
   "id": "39e23865",
   "metadata": {},
   "outputs": [
    {
     "name": "stdout",
     "output_type": "stream",
     "text": [
      "Refined columns not found, using original columns.\n",
      "Placing volume 1 of 1\n"
     ]
    }
   ],
   "source": [
    "slab_20S = construct_slab_from_results_df(\n",
    "    template_volume=template_20S_rescaled,\n",
    "    results_df=results_20S_df_filtered,\n",
    "    image_shape=(\n",
    "        x3_region[1] - x3_region[0] + template_20S.shape[0],\n",
    "        y3_region[1] - y3_region[0] + template_20S.shape[1],\n",
    "    ),\n",
    "    image_pixel_size=px_20S,\n",
    "    slab_pixel_size=px_20S_rescaled,\n",
    "    # slab_thickness=1200.0,  # Angstroms\n",
    ")"
   ]
  },
  {
   "cell_type": "code",
   "execution_count": 24,
   "id": "31631097",
   "metadata": {},
   "outputs": [
    {
     "name": "stdout",
     "output_type": "stream",
     "text": [
      "Slab saved to slab_20S_refined.mrc\n"
     ]
    }
   ],
   "source": [
    "# Save the slab to a MRC file\n",
    "slab_20S_mrc_path = \"slab_20S_refined.mrc\"\n",
    "with mrcfile.new(slab_20S_mrc_path, overwrite=True) as mrc:\n",
    "    mrc.set_data(slab_20S.astype(np.float32))\n",
    "    mrc.voxel_size = (px_20S_rescaled, px_20S_rescaled, px_20S_rescaled)\n",
    "    mrc.update_header_from_data()\n",
    "    print(f\"Slab saved to {slab_20S_mrc_path}\")"
   ]
  },
  {
   "cell_type": "code",
   "execution_count": null,
   "id": "18c39722",
   "metadata": {},
   "outputs": [],
   "source": []
  }
 ],
 "metadata": {
  "kernelspec": {
   "display_name": "2dtm-dev",
   "language": "python",
   "name": "python3"
  },
  "language_info": {
   "codemirror_mode": {
    "name": "ipython",
    "version": 3
   },
   "file_extension": ".py",
   "mimetype": "text/x-python",
   "name": "python",
   "nbconvert_exporter": "python",
   "pygments_lexer": "ipython3",
   "version": "3.12.8"
  }
 },
 "nbformat": 4,
 "nbformat_minor": 5
}
