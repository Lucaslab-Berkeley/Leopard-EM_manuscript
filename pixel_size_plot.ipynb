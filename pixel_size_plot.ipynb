{
 "cells": [
  {
   "cell_type": "markdown",
   "metadata": {},
   "source": [
    "# Pixel size Optimization\n",
    "This notebook outlines how the data for the pixel size optimization was generated for the Leopard-EM manuscript.\n",
    "The first step was to generate a micrograph cropped to 1kx1k."
   ]
  },
  {
   "cell_type": "code",
   "execution_count": 1,
   "metadata": {},
   "outputs": [
    {
     "name": "stdout",
     "output_type": "stream",
     "text": [
      "(1, 4092, 5760)\n",
      "Warning: Input has more than 2 dimensions. Using first slice.\n"
     ]
    }
   ],
   "source": [
    "import sys\n",
    "import mrcfile\n",
    "import numpy as np\n",
    "\n",
    "sys.argv = ['crop_mrc.py', 'all_mgraphs/93_Sep12_18.05.02_201_1.mrc', '4']\n",
    "\n",
    "def crop_center(image, division_factor):\n",
    "    \"\"\"\n",
    "    Crop the center of the image based on division factor\n",
    "    \"\"\"\n",
    "    h, w = image.shape\n",
    "    new_h = h // division_factor\n",
    "    new_w = w // division_factor\n",
    "    \n",
    "    # Calculate start indices for cropping\n",
    "    start_h = h//2 - new_h//2\n",
    "    start_w = w//2 - new_w//2\n",
    "    \n",
    "    return image[start_h:start_h + new_h, start_w:start_w + new_w]\n",
    "\n",
    "def main():\n",
    "    if len(sys.argv) != 3:\n",
    "        print(\"Usage: script.py <input_mrc> <division_factor>\")\n",
    "        sys.exit(1)\n",
    "    \n",
    "    input_file = sys.argv[1]\n",
    "    division_factor = int(sys.argv[2])\n",
    "    \n",
    "    # Create output filename\n",
    "    output_file = input_file.replace('.mrc', f'_cropped_{division_factor}.mrc')\n",
    "    \n",
    "    # Read input MRC\n",
    "    with mrcfile.open(input_file, permissive=True) as mrc:\n",
    "        data = mrc.data.copy()\n",
    "        \n",
    "        # Ensure the image is 2D\n",
    "        print(data.shape)\n",
    "        if len(data.shape) > 2:\n",
    "            print(\"Warning: Input has more than 2 dimensions. Using first slice.\")\n",
    "            data = data[0]\n",
    "        \n",
    "        # Crop the center\n",
    "        cropped_data = crop_center(data, division_factor)\n",
    "        \n",
    "        # Write output MRC\n",
    "        with mrcfile.new(output_file, overwrite=True) as mrc_new:\n",
    "            mrc_new.set_data(cropped_data.astype(np.float32))\n",
    "\n",
    "if __name__ == \"__main__\":\n",
    "    main()\n"
   ]
  },
  {
   "cell_type": "markdown",
   "metadata": {},
   "source": [
    "We than ran  match template on this micrograph to get some peaks"
   ]
  },
  {
   "cell_type": "code",
   "execution_count": 2,
   "metadata": {},
   "outputs": [
    {
     "data": {
      "text/markdown": [
       "```yaml\n",
       "\n",
       "computational_config:\n",
       "  gpu_ids:\n",
       "  - 0\n",
       "  - 1\n",
       "  - 2\n",
       "  - 3\n",
       "  num_cpus: 20\n",
       "defocus_search_config:\n",
       "  defocus_max: 1200.0\n",
       "  defocus_min: -1200.0\n",
       "  defocus_step: 200.0\n",
       "  enabled: true\n",
       "match_template_result:\n",
       "  allow_file_overwrite: true\n",
       "  correlation_average_path: results/output_correlation_average_crop_4.mrc\n",
       "  correlation_variance_path: results/output_correlation_variance_crop_4.mrc\n",
       "  mip_path: results/output_mip_crop_4.mrc\n",
       "  orientation_phi_path: results/output_orientation_phi_crop_4.mrc\n",
       "  orientation_psi_path: results/output_orientation_psi_crop_4.mrc\n",
       "  orientation_theta_path: results/output_orientation_theta_crop_4.mrc\n",
       "  relative_defocus_path: results/output_relative_defocus_crop_4.mrc\n",
       "  scaled_mip_path: results/output_scaled_mip_crop_4.mrc\n",
       "micrograph_path: all_mgraphs/93_Sep12_18.05.02_201_1_cropped_4.mrc\n",
       "optics_group:\n",
       "  label: micrograph_1\n",
       "  amplitude_contrast_ratio: 0.07\n",
       "  ctf_B_factor: 150.0\n",
       "  astigmatism_angle: 50.7521820068359\n",
       "  defocus_u: 4837.90869140625\n",
       "  defocus_v: 5617.462402\n",
       "  phase_shift: 0.0\n",
       "  pixel_size: 1.059\n",
       "  spherical_aberration: 2.7\n",
       "  voltage: 300.0\n",
       "orientation_search_config:\n",
       "  psi_step: 1.5\n",
       "  base_grid_method: uniform\n",
       "  theta_step: 2.5\n",
       "preprocessing_filters:\n",
       "  bandpass_filter:\n",
       "    enabled: false\n",
       "    falloff: 0.05\n",
       "    high_freq_cutoff: 0.5\n",
       "    low_freq_cutoff: 0.0\n",
       "  whitening_filter:\n",
       "    enabled: true\n",
       "    do_power_spectrum: true\n",
       "    max_freq: 1.0\n",
       "    num_freq_bins: null\n",
       "template_volume_path: maps/60S_map_px1.059_bscale0.5_k3dqe.mrc\n",
       "  \n",
       "\n",
       "```"
      ],
      "text/plain": [
       "<IPython.core.display.Markdown object>"
      ]
     },
     "metadata": {},
     "output_type": "display_data"
    }
   ],
   "source": [
    "from IPython.display import Markdown, display\n",
    "\n",
    "# Read the YAML file\n",
    "with open(\"match_template_manager_60S.yaml\") as file:\n",
    "    yaml_content = file.read()\n",
    "\n",
    "# Display as markdown code block\n",
    "display(Markdown(f\"```yaml\\n{yaml_content}\\n```\"))"
   ]
  },
  {
   "cell_type": "code",
   "execution_count": null,
   "metadata": {},
   "outputs": [],
   "source": [
    "from leopard_em.pydantic_models.managers import MatchTemplateManager\n",
    "\n",
    "YAML_CONFIG_PATH = \"match_template_manager_60S.yaml\"\n",
    "ORIENTATION_BATCH_SIZE = 8\n",
    "\n",
    "def main():\n",
    "    mt_manager = MatchTemplateManager.from_yaml(YAML_CONFIG_PATH)\n",
    "    mt_manager.run_match_template(ORIENTATION_BATCH_SIZE)\n",
    "    df = mt_manager.results_to_dataframe()\n",
    "    df.to_csv(\"results/results_crop_4.csv\")\n",
    "\n",
    "# NOTE: invoking from `if __name__ == \"__main__\"` is necessary\n",
    "# for proper multiprocessing/GPU-distribution behavior\n",
    "if __name__ == \"__main__\":\n",
    "    main()\n"
   ]
  },
  {
   "cell_type": "markdown",
   "metadata": {},
   "source": [
    "This gave us n peaks, which is enough to proceed.\n",
    "We now run optimize template to get the optimal pixel size."
   ]
  },
  {
   "cell_type": "code",
   "execution_count": 2,
   "metadata": {},
   "outputs": [
    {
     "data": {
      "text/markdown": [
       "```yaml\n",
       "#####################################################\n",
       "### OptimizeTemplateManager configuration example ###\n",
       "#####################################################\n",
       "# An example YAML configuration to modify.\n",
       "# Call `OptimizeTemplateManager.from_yaml(path)` to load this configuration.\n",
       "particle_stack:\n",
       "  df_path: results/results_crop_4.csv  # Needs to be readable by pandas\n",
       "  extracted_box_size: [528, 528]\n",
       "  original_template_size: [512, 512]\n",
       "pixel_size_coarse_search:\n",
       "  enabled: true\n",
       "  pixel_size_min: -0.05\n",
       "  pixel_size_max: 0.05\n",
       "  pixel_size_step: 0.01\n",
       "pixel_size_fine_search:\n",
       "  enabled: true\n",
       "  pixel_size_min: -0.008\n",
       "  pixel_size_max: 0.008\n",
       "  pixel_size_step: 0.001\n",
       "preprocessing_filters:\n",
       "  whitening_filter:\n",
       "    do_power_spectrum: true\n",
       "    enabled: true\n",
       "    max_freq: 1.0  # In terms of Nyquist frequency\n",
       "    num_freq_bins: null\n",
       "  bandpass_filter:\n",
       "    enabled: false\n",
       "    falloff: null\n",
       "    high_freq_cutoff: null\n",
       "    low_freq_cutoff: null\n",
       "computational_config:\n",
       "  gpu_ids: 0\n",
       "  num_cpus: 1\n",
       "simulator:\n",
       "  simulator_config:\n",
       "    voltage: 300.0\n",
       "    apply_dose_weighting: true\n",
       "    dose_start: 0.0\n",
       "    dose_end: 50.0\n",
       "    dose_filter_modify_signal: \"rel_diff\"\n",
       "    upsampling: -1  \n",
       "    mtf_reference: \"k3_300kV_FL2r\"\n",
       "  pdb_filepath: \"/home/data/jdickerson/2DTM_test_data/models/60S_aligned_aligned_zero.pdb\"\n",
       "  volume_shape: [512, 512, 512]\n",
       "  b_factor_scaling: 0.5\n",
       "  center_atoms: false\n",
       "  remove_hydrogens: true\n",
       "  additional_b_factor: 0\n",
       "  pixel_spacing: 1.06\n",
       "\n",
       "```"
      ],
      "text/plain": [
       "<IPython.core.display.Markdown object>"
      ]
     },
     "metadata": {},
     "output_type": "display_data"
    }
   ],
   "source": [
    "from IPython.display import Markdown, display\n",
    "\n",
    "# Read the YAML file\n",
    "with open(\"optimize_template_example_config.yaml\") as file:\n",
    "    yaml_content = file.read()\n",
    "\n",
    "# Display as markdown code block\n",
    "display(Markdown(f\"```yaml\\n{yaml_content}\\n```\"))"
   ]
  },
  {
   "cell_type": "code",
   "execution_count": null,
   "metadata": {},
   "outputs": [],
   "source": [
    "from leopard_em.pydantic_models.managers import OptimizeTemplateManager\n",
    "\n",
    "OPTIMIZE_YAML_PATH = \"optimize_template_example_config.yaml\"\n",
    "\n",
    "\n",
    "def main() -> None:\n",
    "    \"\"\"Main function to run the optimize template program.\"\"\"\n",
    "    otm = OptimizeTemplateManager.from_yaml(OPTIMIZE_YAML_PATH)\n",
    "    otm.run_optimize_template(output_text_path=\"results/optimize_template_results_crop_4.txt\")\n",
    "\n",
    "\n",
    "if __name__ == \"__main__\":\n",
    "    main()\n"
   ]
  },
  {
   "cell_type": "markdown",
   "metadata": {},
   "source": [
    "Finally, we plot the results"
   ]
  },
  {
   "cell_type": "code",
   "execution_count": null,
   "metadata": {},
   "outputs": [
    {
     "data": {
      "image/png": "[encoded data removed]",
      "text/plain": [
       "<Figure size 295.276x354.331 with 1 Axes>"
      ]
     },
     "metadata": {},
     "output_type": "display_data"
    }
   ],
   "source": [
    "import matplotlib.pyplot as plt\n",
    "import pandas as pd\n",
    "\n",
    "# Load the data from the CSV file\n",
    "data = pd.read_csv('results/optimize_template_results_crop_4_all.csv')\n",
    "\n",
    "# Sort the data by 'Pixel Size (Å)'\n",
    "data = data.sort_values(by='Pixel Size (Å)')\n",
    "\n",
    "# Create the scatter plot\n",
    "fig, ax = plt.subplots(figsize=(75/25.4, 90/25.4))  # Convert mm to inches\n",
    "\n",
    "# Plot the data with smaller markers and black color\n",
    "# Filter data to only include pixel sizes between 1.02 and 1.10\n",
    "filtered_data = data[(data['Pixel Size (Å)'] >= 1.02) & (data['Pixel Size (Å)'] <= 1.10)]\n",
    "\n",
    "# Use the filtered data for plotting\n",
    "data = filtered_data\n",
    "\n",
    "ax.scatter(data['Pixel Size (Å)'], data['SNR'], marker='x', color='black', s=20)  # s is the marker size\n",
    "\n",
    "# Add a line connecting the points\n",
    "ax.plot(data['Pixel Size (Å)'], data['SNR'], color='black', alpha=0.6)\n",
    "\n",
    "# Set font properties\n",
    "plt.rcParams['font.family'] = 'Nimbus Sans'\n",
    "plt.rcParams['font.size'] = 7\n",
    "\n",
    "# Set opacity for axes and ticks\n",
    "ax.spines['left'].set_alpha(0.6)\n",
    "ax.spines['bottom'].set_alpha(0.6)\n",
    "ax.xaxis.label.set_alpha(0.6)\n",
    "ax.yaxis.label.set_alpha(0.6)\n",
    "ax.tick_params(axis='x', colors=(0, 0, 0, 0.6), labelsize=7)\n",
    "ax.tick_params(axis='y', colors=(0, 0, 0, 0.6), labelsize=7)\n",
    "\n",
    "# Remove top and right axes\n",
    "ax.spines['top'].set_visible(False)\n",
    "ax.spines['right'].set_visible(False)\n",
    "\n",
    "# Add axis labels\n",
    "ax.set_xlabel('Pixel Size (Å)', alpha=0.6, fontsize=7)\n",
    "ax.set_ylabel('z-score', alpha=0.6, fontsize=7)\n",
    "\n",
    "# Apply tight layout\n",
    "plt.tight_layout()\n",
    "\n",
    "# Save the plot to a file\n",
    "plt.savefig('results/px_sizes_scatter.pdf')\n",
    "plt.savefig('results/px_sizes_scatter.png', dpi=300)\n",
    "\n",
    "# Show the plot\n",
    "plt.show()"
   ]
  }
 ],
 "metadata": {
  "kernelspec": {
   "display_name": "leopard-em",
   "language": "python",
   "name": "python3"
  },
  "language_info": {
   "codemirror_mode": {
    "name": "ipython",
    "version": 3
   },
   "file_extension": ".py",
   "mimetype": "text/x-python",
   "name": "python",
   "nbconvert_exporter": "python",
   "pygments_lexer": "ipython3",
   "version": "3.12.9"
  }
 },
 "nbformat": 4,
 "nbformat_minor": 2
}
